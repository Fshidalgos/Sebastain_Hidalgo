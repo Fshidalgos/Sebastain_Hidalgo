{
 "cells": [
  {
   "cell_type": "code",
   "execution_count": 1,
   "id": "794fc824",
   "metadata": {},
   "outputs": [],
   "source": [
    "#LECTURE 5"
   ]
  },
  {
   "cell_type": "code",
   "execution_count": 2,
   "id": "b2d72dfc",
   "metadata": {},
   "outputs": [],
   "source": [
    "import pickle\n",
    "import pandas as pd\n",
    "import numpy as np"
   ]
  },
  {
   "cell_type": "code",
   "execution_count": 22,
   "id": "436030de",
   "metadata": {},
   "outputs": [],
   "source": [
    "def cal(x,y):\n",
    "    x2= x*x\n",
    "    y2= y*y\n",
    "    result =x2=y2\n",
    "    \n",
    "    if (result>=250):\n",
    "        print(\"ga\")\n",
    "    elif (20<result<100):\n",
    "        print(\"Goddds\")\n",
    "        return result\n",
    "    else:\n",
    "        print('no money')\n",
    "    "
   ]
  },
  {
   "cell_type": "code",
   "execution_count": 24,
   "id": "ac3f6982",
   "metadata": {},
   "outputs": [
    {
     "name": "stdout",
     "output_type": "stream",
     "text": [
      "ga\n"
     ]
    }
   ],
   "source": [
    "a= cal(2,57777)\n",
    "a"
   ]
  },
  {
   "cell_type": "code",
   "execution_count": 25,
   "id": "f9d704f8",
   "metadata": {},
   "outputs": [],
   "source": [
    "def calculator_base_5( x , y = 5 ):\n",
    "    \n",
    "    result = x * y\n",
    "    \n",
    "    return result"
   ]
  },
  {
   "cell_type": "code",
   "execution_count": 27,
   "id": "5fe729a7",
   "metadata": {},
   "outputs": [
    {
     "data": {
      "text/plain": [
       "25"
      ]
     },
     "execution_count": 27,
     "metadata": {},
     "output_type": "execute_result"
    }
   ],
   "source": [
    "calculator_base_5( 5 )"
   ]
  },
  {
   "cell_type": "code",
   "execution_count": 36,
   "id": "961f5c34",
   "metadata": {},
   "outputs": [],
   "source": [
    "def calculator_base_5( x : int, y : float ) -> float:\n",
    "    if not isinstance(x,int):\n",
    "        raise TypeError(\"X isnt int type.\")\n",
    "    if not isinstance(y,float):\n",
    "        raise TypeError(\"Y isnt float.\")\n",
    "    \n",
    "    result = x * y\n",
    "    \n",
    "    \n",
    "    return result"
   ]
  },
  {
   "cell_type": "code",
   "execution_count": 39,
   "id": "c0b7fc5d",
   "metadata": {},
   "outputs": [
    {
     "data": {
      "text/plain": [
       "33.432"
      ]
     },
     "execution_count": 39,
     "metadata": {},
     "output_type": "execute_result"
    }
   ],
   "source": [
    "calculator_base_5( 4 , 8.358)"
   ]
  },
  {
   "cell_type": "code",
   "execution_count": 40,
   "id": "1ad67726",
   "metadata": {},
   "outputs": [
    {
     "ename": "TypeError",
     "evalue": "X isnt int type.",
     "output_type": "error",
     "traceback": [
      "\u001b[1;31m---------------------------------------------------------------------------\u001b[0m",
      "\u001b[1;31mTypeError\u001b[0m                                 Traceback (most recent call last)",
      "\u001b[1;32m<ipython-input-40-b4764409d1be>\u001b[0m in \u001b[0;36m<module>\u001b[1;34m\u001b[0m\n\u001b[1;32m----> 1\u001b[1;33m \u001b[0mcalculator_base_5\u001b[0m\u001b[1;33m(\u001b[0m\u001b[1;36m8.358\u001b[0m\u001b[1;33m,\u001b[0m \u001b[1;36m6\u001b[0m \u001b[1;33m)\u001b[0m\u001b[1;33m\u001b[0m\u001b[1;33m\u001b[0m\u001b[0m\n\u001b[0m",
      "\u001b[1;32m<ipython-input-36-10d26d7b6fd8>\u001b[0m in \u001b[0;36mcalculator_base_5\u001b[1;34m(x, y)\u001b[0m\n\u001b[0;32m      1\u001b[0m \u001b[1;32mdef\u001b[0m \u001b[0mcalculator_base_5\u001b[0m\u001b[1;33m(\u001b[0m \u001b[0mx\u001b[0m \u001b[1;33m:\u001b[0m \u001b[0mint\u001b[0m\u001b[1;33m,\u001b[0m \u001b[0my\u001b[0m \u001b[1;33m:\u001b[0m \u001b[0mfloat\u001b[0m \u001b[1;33m)\u001b[0m \u001b[1;33m->\u001b[0m \u001b[0mfloat\u001b[0m\u001b[1;33m:\u001b[0m\u001b[1;33m\u001b[0m\u001b[1;33m\u001b[0m\u001b[0m\n\u001b[0;32m      2\u001b[0m     \u001b[1;32mif\u001b[0m \u001b[1;32mnot\u001b[0m \u001b[0misinstance\u001b[0m\u001b[1;33m(\u001b[0m\u001b[0mx\u001b[0m\u001b[1;33m,\u001b[0m\u001b[0mint\u001b[0m\u001b[1;33m)\u001b[0m\u001b[1;33m:\u001b[0m\u001b[1;33m\u001b[0m\u001b[1;33m\u001b[0m\u001b[0m\n\u001b[1;32m----> 3\u001b[1;33m         \u001b[1;32mraise\u001b[0m \u001b[0mTypeError\u001b[0m\u001b[1;33m(\u001b[0m\u001b[1;34m\"X isnt int type.\"\u001b[0m\u001b[1;33m)\u001b[0m\u001b[1;33m\u001b[0m\u001b[1;33m\u001b[0m\u001b[0m\n\u001b[0m\u001b[0;32m      4\u001b[0m     \u001b[1;32mif\u001b[0m \u001b[1;32mnot\u001b[0m \u001b[0misinstance\u001b[0m\u001b[1;33m(\u001b[0m\u001b[0my\u001b[0m\u001b[1;33m,\u001b[0m\u001b[0mfloat\u001b[0m\u001b[1;33m)\u001b[0m\u001b[1;33m:\u001b[0m\u001b[1;33m\u001b[0m\u001b[1;33m\u001b[0m\u001b[0m\n\u001b[0;32m      5\u001b[0m         \u001b[1;32mraise\u001b[0m \u001b[0mTypeError\u001b[0m\u001b[1;33m(\u001b[0m\u001b[1;34m\"Y isnt float.\"\u001b[0m\u001b[1;33m)\u001b[0m\u001b[1;33m\u001b[0m\u001b[1;33m\u001b[0m\u001b[0m\n",
      "\u001b[1;31mTypeError\u001b[0m: X isnt int type."
     ]
    }
   ],
   "source": [
    "calculator_base_5(8.358, 6 )"
   ]
  },
  {
   "cell_type": "code",
   "execution_count": null,
   "id": "15180cab",
   "metadata": {},
   "outputs": [],
   "source": [
    "#LOCAL VARIABLES VS GLOBAL VARIABLES"
   ]
  },
  {
   "cell_type": "code",
   "execution_count": 41,
   "id": "f4cee6fb",
   "metadata": {},
   "outputs": [
    {
     "data": {
      "text/plain": [
       "'C:\\\\Users\\\\User\\\\Documents\\\\GitHub\\\\all_gits_me'"
      ]
     },
     "execution_count": 41,
     "metadata": {},
     "output_type": "execute_result"
    }
   ],
   "source": [
    "pwd"
   ]
  },
  {
   "cell_type": "code",
   "execution_count": 43,
   "id": "6293b56a",
   "metadata": {},
   "outputs": [],
   "source": [
    "%run \"function_1.ipynb\""
   ]
  },
  {
   "cell_type": "code",
   "execution_count": null,
   "id": "f46fe65d",
   "metadata": {},
   "outputs": [],
   "source": [
    "#esto esta en la funcion anterior\n",
    "def lower_case( string1  ):\n",
    "    \n",
    "    str_result = string1.lower()\n",
    "    \n",
    "    return str_result"
   ]
  },
  {
   "cell_type": "code",
   "execution_count": 44,
   "id": "a3f7ca34",
   "metadata": {},
   "outputs": [
    {
     "data": {
      "text/plain": [
       "'aldon'"
      ]
     },
     "execution_count": 44,
     "metadata": {},
     "output_type": "execute_result"
    }
   ],
   "source": [
    "lower_case(\"ALDON\")"
   ]
  },
  {
   "cell_type": "code",
   "execution_count": null,
   "id": "1238d4cb",
   "metadata": {},
   "outputs": [],
   "source": []
  },
  {
   "cell_type": "code",
   "execution_count": 45,
   "id": "23a0a5c1",
   "metadata": {},
   "outputs": [],
   "source": [
    "#CLASSS"
   ]
  },
  {
   "cell_type": "code",
   "execution_count": 77,
   "id": "9064e1b1",
   "metadata": {},
   "outputs": [],
   "source": [
    "class MyFirstClass:\n",
    "    def __init__( self, name, age, school):\n",
    "        self.name = name\n",
    "        self.age = age\n",
    "        self.school = school\n",
    "    \n",
    "    def print_name1(self):\n",
    "        print(f'iam {self.name} and i study in {self.school}.')\n",
    "         \n",
    "    def print_name2():\n",
    "        print(f'this is my {name}.')\n",
    "        \n",
    "    def print_name3(self):\n",
    "        print(f'this is my name and its {self.name}.')"
   ]
  },
  {
   "cell_type": "code",
   "execution_count": 71,
   "id": "a1b98906",
   "metadata": {},
   "outputs": [
    {
     "name": "stdout",
     "output_type": "stream",
     "text": [
      "this is my name and its Jose.\n"
     ]
    }
   ],
   "source": [
    "student_0 = MyFirstClass( name = \"Jose\" , age = 22, school = \"sss\")\n",
    "student_0.print_name3()"
   ]
  },
  {
   "cell_type": "code",
   "execution_count": 78,
   "id": "2e7099da",
   "metadata": {},
   "outputs": [
    {
     "name": "stdout",
     "output_type": "stream",
     "text": [
      "iam Jose and i study in Saco Oliveros.\n"
     ]
    }
   ],
   "source": [
    "student_0 = MyFirstClass( name = \"Jose\" , age = 22, school = \"Saco Oliveros\" )\n",
    "student_0.print_name1()"
   ]
  },
  {
   "cell_type": "code",
   "execution_count": null,
   "id": "94fdb517",
   "metadata": {},
   "outputs": [],
   "source": []
  },
  {
   "cell_type": "code",
   "execution_count": 79,
   "id": "f8ce85a9",
   "metadata": {},
   "outputs": [],
   "source": [
    "#TAREA 3"
   ]
  },
  {
   "cell_type": "code",
   "execution_count": null,
   "id": "684e6d1b",
   "metadata": {},
   "outputs": [],
   "source": [
    "import pandas as pd\n",
    "import numpy as np\n",
    "import statsmodels.formula.api as smf"
   ]
  },
  {
   "cell_type": "code",
   "execution_count": null,
   "id": "7ebbf6e5",
   "metadata": {},
   "outputs": [],
   "source": []
  },
  {
   "cell_type": "code",
   "execution_count": null,
   "id": "92836d05",
   "metadata": {},
   "outputs": [],
   "source": []
  },
  {
   "cell_type": "code",
   "execution_count": null,
   "id": "baa8d209",
   "metadata": {},
   "outputs": [],
   "source": []
  },
  {
   "cell_type": "code",
   "execution_count": null,
   "id": "2ad8e954",
   "metadata": {},
   "outputs": [],
   "source": []
  },
  {
   "cell_type": "code",
   "execution_count": 1,
   "id": "ac1f0c66",
   "metadata": {},
   "outputs": [
    {
     "name": "stdout",
     "output_type": "stream",
     "text": [
      "            0         1         2       date\n",
      "153  0.258595  0.133429  0.931116 2000-06-02\n",
      "154  0.014478  0.204811  0.060423 2000-06-03\n",
      "155  0.510596  0.629437  0.823514 2000-06-04\n",
      "156  0.707673  0.245385  0.874887 2000-06-05\n",
      "157  0.285342  0.057223  0.460441 2000-06-06\n",
      "158  0.006280  0.557589  0.176878 2000-06-07\n",
      "159  0.455730  0.415114  0.412317 2000-06-08\n",
      "160  0.209602  0.383623  0.129656 2000-06-09\n",
      "161  0.968836  0.882733  0.015748 2000-06-10\n"
     ]
    }
   ],
   "source": [
    "import numpy as np\n",
    "import pandas as pd\n",
    "\n",
    "df = pd.DataFrame(np.random.random((200,3)))\n",
    "df['date'] = pd.date_range('2000-1-1', periods=200, freq='D')\n",
    "mask = (df['date'] > '2000-6-1') & (df['date'] <= '2000-6-10')\n",
    "print(df.loc[mask])\n"
   ]
  },
  {
   "cell_type": "code",
   "execution_count": null,
   "id": "5eec602d",
   "metadata": {},
   "outputs": [],
   "source": []
  },
  {
   "cell_type": "code",
   "execution_count": null,
   "id": "f3f7a3ae",
   "metadata": {},
   "outputs": [],
   "source": []
  },
  {
   "cell_type": "code",
   "execution_count": null,
   "id": "12691155",
   "metadata": {},
   "outputs": [],
   "source": []
  },
  {
   "cell_type": "code",
   "execution_count": null,
   "id": "82dc61f2",
   "metadata": {},
   "outputs": [],
   "source": []
  },
  {
   "cell_type": "code",
   "execution_count": null,
   "id": "8da88138",
   "metadata": {},
   "outputs": [],
   "source": []
  },
  {
   "cell_type": "code",
   "execution_count": null,
   "id": "9af6f34b",
   "metadata": {},
   "outputs": [],
   "source": []
  }
 ],
 "metadata": {
  "kernelspec": {
   "display_name": "Python 3 (ipykernel)",
   "language": "python",
   "name": "python3"
  },
  "language_info": {
   "codemirror_mode": {
    "name": "ipython",
    "version": 3
   },
   "file_extension": ".py",
   "mimetype": "text/x-python",
   "name": "python",
   "nbconvert_exporter": "python",
   "pygments_lexer": "ipython3",
   "version": "3.10.2"
  }
 },
 "nbformat": 4,
 "nbformat_minor": 5
}
