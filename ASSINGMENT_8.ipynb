{
 "cells": [
  {
   "cell_type": "code",
   "execution_count": null,
   "id": "ace03a10",
   "metadata": {},
   "outputs": [],
   "source": [
    "from IPython.display import display, HTML\n",
    "\n",
    "display(HTML(data=\"\"\"\n",
    "<style>\n",
    "    div#notebook-container    { width: 95%; }\n",
    "    div#menubar-container     { width: 65%; }\n",
    "    div#maintoolbar-container { width: 99%; }a\n",
    "</style>\n",
    "\"\"\"))"
   ]
  },
  {
   "cell_type": "code",
   "execution_count": null,
   "id": "ac116f67",
   "metadata": {},
   "outputs": [],
   "source": [
    "import pandas as pd\n",
    "from pandas import Series, DataFrame\n",
    "import numpy as np\n",
    "import matplotlib.pyplot as plt \n",
    "import chardet"
   ]
  },
  {
   "cell_type": "code",
   "execution_count": null,
   "id": "edf5f48d",
   "metadata": {},
   "outputs": [],
   "source": [
    "import geopandas as gpd\n",
    "from geopandas import GeoSeries\n",
    "from shapely.geometry import Point, LineString\n",
    "import folium \n",
    "from folium import Marker, GeoJson\n",
    "from folium.plugins import MarkerCluster, HeatMap"
   ]
  },
  {
   "cell_type": "code",
   "execution_count": null,
   "id": "4982512c",
   "metadata": {},
   "outputs": [],
   "source": []
  },
  {
   "cell_type": "code",
   "execution_count": null,
   "id": "e34eb67d",
   "metadata": {},
   "outputs": [],
   "source": [
    "base = open(r'C:\\Users\\User\\Documents\\GitHub\\Diplomado_PUCP\\_data/data_dengue_peru.csv', 'rb').read()\n",
    "det = chardet.detect(base)\n",
    "charenc = det['encoding']\n",
    "charenc"
   ]
  },
  {
   "cell_type": "code",
   "execution_count": null,
   "id": "4cea3b0f",
   "metadata": {},
   "outputs": [],
   "source": []
  },
  {
   "cell_type": "code",
   "execution_count": null,
   "id": "f34296e7",
   "metadata": {},
   "outputs": [],
   "source": [
    "# Import csv file from panel covid information at distric level\n",
    "# Panel data from march-2020 to first two wees of january-2022\n",
    "\n",
    "d_data = pd.read_csv( r'C:\\Users\\User\\Documents\\GitHub\\Diplomado_PUCP\\_data/data_dengue_peru.csv', thousands = \",\", dtype= {\"Ubigeo\":\"str\"})\n",
    "d_data.head( 5 )"
   ]
  },
  {
   "cell_type": "code",
   "execution_count": null,
   "id": "e989be02",
   "metadata": {},
   "outputs": [],
   "source": [
    "# rename variable to merge later \n",
    "d_data = d_data.rename({'Ubigeo':'UBIGEO'}, axis =1 )\n",
    "d_data.head( 5 )"
   ]
  },
  {
   "cell_type": "code",
   "execution_count": null,
   "id": "eeb9a9a5",
   "metadata": {},
   "outputs": [],
   "source": [
    "#tking first 2 and last 4 numbers of ubigeo, damnnnn"
   ]
  },
  {
   "cell_type": "code",
   "execution_count": null,
   "id": "8e180c62",
   "metadata": {},
   "outputs": [],
   "source": [
    "d_data['UBIGEO_dpto'] = d_data['UBIGEO'].astype(str).str[:2] \n",
    "d_data\n"
   ]
  },
  {
   "cell_type": "code",
   "execution_count": null,
   "id": "d3211b7b",
   "metadata": {},
   "outputs": [],
   "source": [
    "d_data['UBIGEO_prov'] = d_data['UBIGEO'].astype(str).str[:4] \n",
    "d_data"
   ]
  },
  {
   "cell_type": "code",
   "execution_count": null,
   "id": "823ab32b",
   "metadata": {},
   "outputs": [],
   "source": [
    "#GEOPANDAS"
   ]
  },
  {
   "cell_type": "code",
   "execution_count": null,
   "id": "58a4d6a8",
   "metadata": {},
   "outputs": [],
   "source": [
    "#4"
   ]
  },
  {
   "cell_type": "code",
   "execution_count": null,
   "id": "9b531298",
   "metadata": {},
   "outputs": [],
   "source": [
    "maps  = gpd.read_file(r'C:\\Users\\User\\Documents\\GitHub\\Diplomado_PUCP\\_data/LIMITE_DISTRITAL_2020_INEI/INEI_LIMITE_DISTRITAL.shp')\n",
    "#maps [\"geometry\"][0]"
   ]
  },
  {
   "cell_type": "code",
   "execution_count": null,
   "id": "d3527f46",
   "metadata": {},
   "outputs": [],
   "source": [
    "# Upload shapefile-distric level\n",
    "#maps = gpd.read_file(r'C:\\Users\\User\\Documents\\GitHub\\Diplomado_PUCP\\_data/shape_file/DISTRITOS.shp')\n",
    "#maps"
   ]
  },
  {
   "cell_type": "code",
   "execution_count": null,
   "id": "d39093c7",
   "metadata": {},
   "outputs": [],
   "source": [
    "maps "
   ]
  },
  {
   "cell_type": "code",
   "execution_count": null,
   "id": "d0df0ca1",
   "metadata": {},
   "outputs": [],
   "source": []
  },
  {
   "cell_type": "code",
   "execution_count": null,
   "id": "58ab9f86",
   "metadata": {},
   "outputs": [],
   "source": [
    " "
   ]
  },
  {
   "cell_type": "code",
   "execution_count": null,
   "id": "4fed6fc6",
   "metadata": {},
   "outputs": [],
   "source": [
    "#d_data_2021 = d_data_2021.rename({'UBIGEO':'IDDIST'}, axis =1 )"
   ]
  },
  {
   "cell_type": "code",
   "execution_count": null,
   "id": "5990e72a",
   "metadata": {},
   "outputs": [],
   "source": [
    "d1_data_2021 = d_data_2021.groupby ( [\"UBIGEO\"], as_index = False).agg ({'Casos': 'sum'})\n",
    "d1_data_2021"
   ]
  },
  {
   "cell_type": "code",
   "execution_count": null,
   "id": "85a13372",
   "metadata": {},
   "outputs": [],
   "source": [
    "#Maps dist\n",
    "#maps_dist = maps.dissolve (by = 'IDPROV', as_index = False)\n",
    "#maps_dist"
   ]
  },
  {
   "cell_type": "code",
   "execution_count": null,
   "id": "dfbc6246",
   "metadata": {},
   "outputs": [],
   "source": [
    "# group_by district\n",
    "#df_dengue_districts = df_dengue.copy()\n",
    "#df_dengue_districts['Casos_distrito'] = df_dengue_districts.groupby(['Distrito'])['Casos_distrito'].transform('sum')\n",
    "\n",
    "# Merge geometry with data\n",
    "maps['UBIGEO'] = maps['UBIGEO'].astype(str).astype(int)\n",
    "\n",
    "maps1  = maps[['UBIGEO','NOMBDIST', 'geometry']]\n",
    "data_geo1 = maps1 .merge(d1_data_2021, on='UBIGEO', how='left')\n",
    "data_geo1"
   ]
  },
  {
   "cell_type": "code",
   "execution_count": null,
   "id": "b988b277",
   "metadata": {},
   "outputs": [],
   "source": [
    "#Merge\n",
    "df1 = maps.merge(d1_data_2021, left_on =\"UBIGEO\", right_on= \"UBIGEO\", how = 'left')\n",
    "df1\n"
   ]
  },
  {
   "cell_type": "code",
   "execution_count": null,
   "id": "8a28cfe6",
   "metadata": {},
   "outputs": [],
   "source": [
    "d_data_2021_1"
   ]
  },
  {
   "cell_type": "code",
   "execution_count": null,
   "id": "08aa58be",
   "metadata": {},
   "outputs": [],
   "source": [
    "d_data_2021['Casos'] = d_data_2021['Casos'].str.replace(\",\",\"\")\n",
    "d_data_2021['Casos'] = d_data_2021['Casos'].fillna(0)\n",
    "d_data_2021['Casos'] = d_data_2021['Casos'].astype(str).astype(int)\n",
    "d_data_2021"
   ]
  },
  {
   "cell_type": "code",
   "execution_count": null,
   "id": "c1dd9a90",
   "metadata": {},
   "outputs": [],
   "source": [
    "d_data_2021"
   ]
  },
  {
   "cell_type": "code",
   "execution_count": null,
   "id": "1af345b5",
   "metadata": {},
   "outputs": [],
   "source": [
    "d_data['Casos'].describe()"
   ]
  },
  {
   "cell_type": "code",
   "execution_count": null,
   "id": "6fc7a46f",
   "metadata": {},
   "outputs": [],
   "source": [
    "d_data.to_excel(\"prueba2.xlsx\")"
   ]
  },
  {
   "cell_type": "code",
   "execution_count": null,
   "id": "8df77ee5",
   "metadata": {},
   "outputs": [],
   "source": [
    "d_data_2021_1 = d_data_2021.groupby ( [\"UBIGEO_prov\"], as_index = False).agg ({'Casos': 'sum'})\n",
    "d_data_2021_1"
   ]
  }
 ],
 "metadata": {
  "kernelspec": {
   "display_name": "Python 3 (ipykernel)",
   "language": "python",
   "name": "python3"
  },
  "language_info": {
   "codemirror_mode": {
    "name": "ipython",
    "version": 3
   },
   "file_extension": ".py",
   "mimetype": "text/x-python",
   "name": "python",
   "nbconvert_exporter": "python",
   "pygments_lexer": "ipython3",
   "version": "3.10.2"
  }
 },
 "nbformat": 4,
 "nbformat_minor": 5
}
